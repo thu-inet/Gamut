{
 "cells": [
  {
   "cell_type": "code",
   "execution_count": 1,
   "metadata": {},
   "outputs": [],
   "source": [
    "import numpy as np\n",
    "import matplotlib.pyplot as plt\n",
    "\n",
    "\n",
    "from copy import deepcopy\n",
    "\n",
    "import gamspec"
   ]
  },
  {
   "cell_type": "code",
   "execution_count": 2,
   "metadata": {},
   "outputs": [],
   "source": [
    "# 用于寻峰的分支\n",
    "sav = gamspec.SavitzkySmoother(3, 3)\n",
    "convol = gamspec.SecondConvolutionPeakSearcher()\n",
    "fpeak = gamspec.Flow(gamspec.Pipe([sav, convol]), 0, 0, 1, 1)\n",
    "\n",
    "# 用于平滑的分支\n",
    "wavelet = gamspec.TranslationInvarianceWaveletSmoother('dmey', 'quadratic-soft', order=3)\n",
    "fsmooth = gamspec.Flow(wavelet, 0, 0, 1, 0) \n",
    "\n",
    "# 两个分支合并\n",
    "def combine(spec1, spec2):\n",
    "    spec1.regions = deepcopy(spec2.regions)\n",
    "    return spec1\n",
    "comb = gamspec.Combinor(2, func=combine)\n",
    "fcomb = gamspec.Flow(comb, 1, [0, 1], 2, 0)\n",
    "\n",
    "# 剥谱\n",
    "strp = gamspec.OtherOperator.AdaptiveSNIPStripper(baseline=False)\n",
    "fstrip = gamspec.Flow(strp, 2, 0, 3, 0)\n",
    "\n",
    "# 拟合，计算峰面积\n",
    "fit = gamspec.RegionPeakFitter(10, equal_width=False, baseline=False)\n",
    "ffit = gamspec.Flow(fit, 3, 0, 4, 0)\n",
    "\n",
    "pipenet = gamspec.PipeNet([fpeak, fsmooth, fcomb, fstrip, ffit])"
   ]
  },
  {
   "cell_type": "markdown",
   "metadata": {},
   "source": [
    "使用numpy产生随机数然后绘制直方图得到的高斯分布单峰。无本底。预设峰位置50，标准差1.3"
   ]
  },
  {
   "cell_type": "code",
   "execution_count": 3,
   "metadata": {},
   "outputs": [],
   "source": [
    "# np.random.seed(1)\n",
    "\n",
    "# signal = np.random.normal(loc=50, scale=1.3, size=1000)\n",
    "# histo = np.histogram(signal, bins=100, range=(0,100))[0]\n",
    "# spec = gamspec.Spectrum(histo)\n",
    "\n",
    "# pipenet([spec])\n",
    "# pipenet.get_node(4)[0].export_to_excel('test.xlsx')"
   ]
  },
  {
   "cell_type": "markdown",
   "metadata": {},
   "source": [
    "使用numpy产生随机数然后绘制直方图得到的高斯分布单峰。无本底。预设峰位置50，标准差1.3，固定添加高度为100的本底后再进行正态扰动\t\t\t\t\t\t\t\t\t\t\t"
   ]
  },
  {
   "cell_type": "code",
   "execution_count": 4,
   "metadata": {},
   "outputs": [
    {
     "name": "stdout",
     "output_type": "stream",
     "text": [
      "114\n"
     ]
    }
   ],
   "source": [
    "np.random.seed(1)\n",
    "\n",
    "signal = np.random.normal(loc=50, scale=4, size=1000)\n",
    "histo = np.histogram(signal, bins=100, range=(0,100))[0]\n",
    "histo = histo + 100\n",
    "print(histo.max()-100)\n",
    "histo = np.random.normal(loc=histo, scale=histo**0.5)\n",
    "spec = gamspec.Spectrum(histo)\n"
   ]
  },
  {
   "cell_type": "code",
   "execution_count": 8,
   "metadata": {},
   "outputs": [
    {
     "name": "stdout",
     "output_type": "stream",
     "text": [
      "================================\n",
      "GAMUT: Start running PipeNet\n",
      "================================\n",
      "|Execute: Node 0|[0] >> SavitzkySmoother[O3W7]>>SecondConvolutionSearcher[F20] >> Node 1|[1]\n",
      "|Execute: Node 0|[0] >> TIWaveletSmoother[O3MqTv] >> Node 1|[0]\n",
      "|Execute: Node 1|[0, 1] >> Combinor >> Node 2|[0]\n",
      "|Execute: Node 2|[0] >> AdaptiveSNIPStripper >> Node 3|[0]\n",
      "|Execute: Node 3|[0] >> RegionPeakFitter >> Node 4|[0]\n",
      "Fitting Region: 39~70, NPeaks=1, time=Wed Apr 10 16:36:21 2024\n",
      "Finish Fitting Region: time=Wed Apr 10 16:36:21 2024\n"
     ]
    },
    {
     "data": {
      "text/html": [
       "<div>\n",
       "<style scoped>\n",
       "    .dataframe tbody tr th:only-of-type {\n",
       "        vertical-align: middle;\n",
       "    }\n",
       "\n",
       "    .dataframe tbody tr th {\n",
       "        vertical-align: top;\n",
       "    }\n",
       "\n",
       "    .dataframe thead th {\n",
       "        text-align: right;\n",
       "    }\n",
       "</style>\n",
       "<table border=\"1\" class=\"dataframe\">\n",
       "  <thead>\n",
       "    <tr style=\"text-align: right;\">\n",
       "      <th></th>\n",
       "      <th>left</th>\n",
       "      <th>right</th>\n",
       "      <th>energy</th>\n",
       "      <th>location</th>\n",
       "      <th>height</th>\n",
       "      <th>stderr</th>\n",
       "      <th>area</th>\n",
       "      <th>sig_area2</th>\n",
       "      <th>fitness</th>\n",
       "    </tr>\n",
       "  </thead>\n",
       "  <tbody>\n",
       "    <tr>\n",
       "      <th>0</th>\n",
       "      <td>39</td>\n",
       "      <td>70</td>\n",
       "      <td>50</td>\n",
       "      <td>50</td>\n",
       "      <td>105.919719</td>\n",
       "      <td>4.85744</td>\n",
       "      <td>1289.657064</td>\n",
       "      <td>94.480453</td>\n",
       "      <td>0.888374</td>\n",
       "    </tr>\n",
       "  </tbody>\n",
       "</table>\n",
       "</div>"
      ],
      "text/plain": [
       "   left  right  energy  location      height   stderr         area  sig_area2  \\\n",
       "0    39     70      50        50  105.919719  4.85744  1289.657064  94.480453   \n",
       "\n",
       "    fitness  \n",
       "0  0.888374  "
      ]
     },
     "execution_count": 8,
     "metadata": {},
     "output_type": "execute_result"
    }
   ],
   "source": [
    "nodes = pipenet([spec])\n",
    "nodes[4][0].export_to_pandas()"
   ]
  },
  {
   "cell_type": "code",
   "execution_count": 9,
   "metadata": {},
   "outputs": [
    {
     "ename": "AttributeError",
     "evalue": "'PipeNet' object has no attribute 'get_node'",
     "output_type": "error",
     "traceback": [
      "\u001b[1;31m---------------------------------------------------------------------------\u001b[0m",
      "\u001b[1;31mAttributeError\u001b[0m                            Traceback (most recent call last)",
      "Cell \u001b[1;32mIn[9], line 1\u001b[0m\n\u001b[1;32m----> 1\u001b[0m \u001b[43mpipenet\u001b[49m\u001b[38;5;241;43m.\u001b[39;49m\u001b[43mget_node\u001b[49m(\u001b[38;5;241m3\u001b[39m)[\u001b[38;5;241m0\u001b[39m]\u001b[38;5;241m.\u001b[39mplot()\n\u001b[0;32m      2\u001b[0m pipenet\u001b[38;5;241m.\u001b[39mget_node(\u001b[38;5;241m1\u001b[39m)[\u001b[38;5;241m0\u001b[39m]\u001b[38;5;241m.\u001b[39mplot()\n\u001b[0;32m      3\u001b[0m pipenet\u001b[38;5;241m.\u001b[39mget_node(\u001b[38;5;241m0\u001b[39m)[\u001b[38;5;241m0\u001b[39m]\u001b[38;5;241m.\u001b[39mplot()\n",
      "\u001b[1;31mAttributeError\u001b[0m: 'PipeNet' object has no attribute 'get_node'"
     ]
    }
   ],
   "source": [
    "pipenet.get_node(3)[0].plot()\n",
    "pipenet.get_node(1)[0].plot()\n",
    "pipenet.get_node(0)[0].plot()\n",
    "plt.legend()"
   ]
  }
 ],
 "metadata": {
  "kernelspec": {
   "display_name": "Python 3",
   "language": "python",
   "name": "python3"
  },
  "language_info": {
   "codemirror_mode": {
    "name": "ipython",
    "version": 3
   },
   "file_extension": ".py",
   "mimetype": "text/x-python",
   "name": "python",
   "nbconvert_exporter": "python",
   "pygments_lexer": "ipython3",
   "version": "3.11.4"
  }
 },
 "nbformat": 4,
 "nbformat_minor": 2
}
