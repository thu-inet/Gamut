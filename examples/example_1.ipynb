{
 "cells": [
  {
   "cell_type": "markdown",
   "metadata": {},
   "source": [
    "This example is the most basic example of the usage of the package.\n",
    "Here, we simply demonstrate its usage by using some functions of the package."
   ]
  },
  {
   "cell_type": "markdown",
   "metadata": {},
   "source": [
    "First, we import some util modules."
   ]
  },
  {
   "cell_type": "code",
   "execution_count": null,
   "metadata": {},
   "outputs": [],
   "source": [
    "import numpy as np\n",
    "import matplotlib.pyplot as plt\n",
    "\n",
    "import Smoother\n",
    "import PeakSearcher\n",
    "import AreaCalculator\n",
    "import BasicOperator\n",
    "import OtherOperator\n",
    "\n",
    "from Operator import Pipe, PipeNet\n",
    "from Spectrum import Spectrum, SimulatedSpectrum"
   ]
  },
  {
   "cell_type": "markdown",
   "metadata": {},
   "source": [
    "We generate a simulated spectrum."
   ]
  },
  {
   "cell_type": "code",
   "execution_count": null,
   "metadata": {},
   "outputs": [],
   "source": [
    "simu = Spectrum.SimulatedSpectrum()"
   ]
  },
  {
   "cell_type": "markdown",
   "metadata": {},
   "source": [
    "We define some basic operators."
   ]
  },
  {
   "cell_type": "code",
   "execution_count": null,
   "metadata": {},
   "outputs": [],
   "source": [
    "cen = Smoother.CentroidSmoother(2)\n",
    "strip = OtherOperator.SNIPStripper(4)\n",
    "gauss = PeakSearcher.GaussPeakSearcher(2, 0.2)\n",
    "wavelet = Smoother.WaveletSmoother('gauss', 'low', 6)\n",
    "cal = AreaCalculator.AverageClassicPeakAreaCalculator()"
   ]
  },
  {
   "cell_type": "code",
   "execution_count": null,
   "metadata": {},
   "outputs": [],
   "source": [
    "\n",
    "\n",
    "\n",
    "# strip test\n",
    "\n",
    "\n",
    "sav = Smoother.SavitzkySmoother(3, 4)\n",
    "strp = OtherOperator.SNIPStripper(5)\n",
    "\n",
    "lin = BasicOperator.FunctionalOperator(func = lambda x: x)\n",
    "dualstrp = BasicOperator.Stripper() \n",
    "\n",
    "baseline = Pipe([sav, strp])\n",
    "\n",
    "schemes = [{'pipe': baseline, 'inp_id': 0, 'inp_order':[0], 'outp_id': 1, 'outp_order': 1},\n",
    "        {'pipe': lin, 'inp_id': 0, 'inp_order':[0], 'outp_id': 1, 'outp_order': 0},\n",
    "        {'pipe': Pipe([dualstrp, sav, sav]), 'inp_id': 1, 'inp_order':[0, 1], 'outp_id': 2, 'outp_order': 0},]\n",
    "net = Operator.PipeNet(schemes)\n",
    "\n",
    "net.plot()\n",
    "net({0:simu})\n",
    "\n",
    "spec = net.get_node(2)[0]\n",
    "spec.plot()\n",
    "\n",
    "simu.plot()\n",
    "plt.savefig(\"fig.png\")\n"
   ]
  }
 ],
 "metadata": {
  "kernelspec": {
   "display_name": "Python 3",
   "language": "python",
   "name": "python3"
  },
  "language_info": {
   "name": "python",
   "version": "3.11.4"
  },
  "orig_nbformat": 4
 },
 "nbformat": 4,
 "nbformat_minor": 2
}
