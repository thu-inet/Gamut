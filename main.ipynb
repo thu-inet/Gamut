{
 "cells": [
  {
   "cell_type": "code",
   "execution_count": 2,
   "metadata": {},
   "outputs": [
    {
     "ename": "ModuleNotFoundError",
     "evalue": "No module named 'Spectrum'",
     "output_type": "error",
     "traceback": [
      "\u001b[1;31m---------------------------------------------------------------------------\u001b[0m",
      "\u001b[1;31mModuleNotFoundError\u001b[0m                       Traceback (most recent call last)",
      "Cell \u001b[1;32mIn[2], line 7\u001b[0m\n\u001b[0;32m      5\u001b[0m \u001b[39mimport\u001b[39;00m \u001b[39mGamut\u001b[39;00m\u001b[39m.\u001b[39;00m\u001b[39mPeakSearcher\u001b[39;00m \u001b[39mas\u001b[39;00m \u001b[39mPeakSearcher\u001b[39;00m\n\u001b[0;32m      6\u001b[0m \u001b[39mimport\u001b[39;00m \u001b[39mGamut\u001b[39;00m\u001b[39m.\u001b[39;00m\u001b[39mAreaCalculator\u001b[39;00m \u001b[39mas\u001b[39;00m \u001b[39mAreaCalculator\u001b[39;00m\n\u001b[1;32m----> 7\u001b[0m \u001b[39mimport\u001b[39;00m \u001b[39mGamut\u001b[39;00m\u001b[39m.\u001b[39;00m\u001b[39mBasicOperator\u001b[39;00m \u001b[39mas\u001b[39;00m \u001b[39mBasicOperator\u001b[39;00m\n\u001b[0;32m      8\u001b[0m \u001b[39mimport\u001b[39;00m \u001b[39mGamut\u001b[39;00m\u001b[39m.\u001b[39;00m\u001b[39mOtherOperator\u001b[39;00m \u001b[39mas\u001b[39;00m \u001b[39mOtherOperator\u001b[39;00m\n\u001b[0;32m     10\u001b[0m \u001b[39mfrom\u001b[39;00m \u001b[39mGamut\u001b[39;00m\u001b[39m.\u001b[39;00m\u001b[39mOperator\u001b[39;00m \u001b[39mimport\u001b[39;00m Pipe, PipeNet\n",
      "File \u001b[1;32me:\\Gamut_dev\\Gamut\\BasicOperator.py:4\u001b[0m\n\u001b[0;32m      1\u001b[0m \u001b[39mimport\u001b[39;00m \u001b[39mnumpy\u001b[39;00m \u001b[39mas\u001b[39;00m \u001b[39mnp\u001b[39;00m\n\u001b[0;32m      3\u001b[0m \u001b[39mfrom\u001b[39;00m \u001b[39mtyping\u001b[39;00m \u001b[39mimport\u001b[39;00m Callable, Literal\n\u001b[1;32m----> 4\u001b[0m \u001b[39mfrom\u001b[39;00m \u001b[39mSpectrum\u001b[39;00m \u001b[39mimport\u001b[39;00m Spectrum\n\u001b[0;32m      5\u001b[0m \u001b[39mfrom\u001b[39;00m \u001b[39mOperator\u001b[39;00m \u001b[39mimport\u001b[39;00m Operator\n\u001b[0;32m      8\u001b[0m \u001b[39mclass\u001b[39;00m \u001b[39mFunctionalOperator\u001b[39;00m(Operator):\n",
      "\u001b[1;31mModuleNotFoundError\u001b[0m: No module named 'Spectrum'"
     ]
    }
   ],
   "source": [
    "import numpy as np\n",
    "import matplotlib.pyplot as plt\n",
    "\n",
    "import Gamut.Smoother as Smoother\n",
    "import Gamut.PeakSearcher as PeakSearcher\n",
    "import Gamut.AreaCalculator as AreaCalculator\n",
    "import Gamut.BasicOperator as BasicOperator\n",
    "import Gamut.OtherOperator as OtherOperator\n",
    "\n",
    "from Gamut.Operator import Pipe, PipeNet\n",
    "from Gamut.Spectrum import Spectrum, SimulatedSpectrum, simuspecs"
   ]
  },
  {
   "cell_type": "code",
   "execution_count": 1,
   "metadata": {},
   "outputs": [
    {
     "ename": "NameError",
     "evalue": "name 'simuspecs' is not defined",
     "output_type": "error",
     "traceback": [
      "\u001b[1;31m---------------------------------------------------------------------------\u001b[0m",
      "\u001b[1;31mNameError\u001b[0m                                 Traceback (most recent call last)",
      "Cell \u001b[1;32mIn[1], line 3\u001b[0m\n\u001b[0;32m      1\u001b[0m \u001b[39mimport\u001b[39;00m \u001b[39mmatplotlib\u001b[39;00m\u001b[39m.\u001b[39;00m\u001b[39mpyplot\u001b[39;00m \u001b[39mas\u001b[39;00m \u001b[39mplt\u001b[39;00m\n\u001b[1;32m----> 3\u001b[0m simu \u001b[39m=\u001b[39m simuspecs[\u001b[39m'\u001b[39m\u001b[39mdoublepeak_slight\u001b[39m\u001b[39m'\u001b[39m]\n\u001b[0;32m      5\u001b[0m cen \u001b[39m=\u001b[39m Smoother\u001b[39m.\u001b[39mCentroidSmoother(\u001b[39m3\u001b[39m)\n\u001b[0;32m      6\u001b[0m strp \u001b[39m=\u001b[39m OtherOperator\u001b[39m.\u001b[39mSNIPStripper(\u001b[39m10\u001b[39m)\n",
      "\u001b[1;31mNameError\u001b[0m: name 'simuspecs' is not defined"
     ]
    }
   ],
   "source": [
    "import matplotlib.pyplot as plt\n",
    "\n",
    "simu = simuspecs['doublepeak_slight']\n",
    "\n",
    "cen = Smoother.CentroidSmoother(3)\n",
    "strp = OtherOperator.SNIPStripper(10)\n",
    "minus = BasicOperator.Stripper()\n",
    "\n",
    "diff = PeakSearcher.DifferentialPeakSearcher(4, 3, 1, 2, 0.4)\n",
    "gauss = PeakSearcher.GaussPeakSearcher(2, 0.05)\n",
    "cov = PeakSearcher.CovarianceSearcher(2, 3)\n",
    "\n",
    "smoothed = cen(cen(simu))\n",
    "base = strp(cen(cen(simu)))\n",
    "stripped = minus([cen(cen(simu)), base])\n",
    "\n",
    "gaussspe = gauss(stripped)\n",
    "diffspe = diff(stripped)\n",
    "covspe = cov(stripped)\n",
    "\n",
    "fig, axe = plt.subplots(3, 1)\n",
    "for i, spe in enumerate([gaussspe, diffspe, covspe]):\n",
    "    spe.plot(axes=axe[i])\n",
    "    spe.plot_peaks(axes=axe[i])\n",
    "    print(spe)\n",
    "fig.savefig(\"compare.png\")"
   ]
  }
 ],
 "metadata": {
  "kernelspec": {
   "display_name": "Python 3",
   "language": "python",
   "name": "python3"
  },
  "language_info": {
   "codemirror_mode": {
    "name": "ipython",
    "version": 3
   },
   "file_extension": ".py",
   "mimetype": "text/x-python",
   "name": "python",
   "nbconvert_exporter": "python",
   "pygments_lexer": "ipython3",
   "version": "3.11.4"
  },
  "orig_nbformat": 4
 },
 "nbformat": 4,
 "nbformat_minor": 2
}
