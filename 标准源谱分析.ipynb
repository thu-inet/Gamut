{
 "cells": [
  {
   "cell_type": "code",
   "execution_count": 1,
   "metadata": {},
   "outputs": [],
   "source": [
    "import numpy as np\n",
    "import matplotlib.pyplot as plt\n",
    "import pandas as pd\n",
    "\n",
    "from copy import deepcopy\n",
    "\n",
    "import gamspec\n",
    "from gamspec import *"
   ]
  },
  {
   "cell_type": "code",
   "execution_count": 2,
   "metadata": {},
   "outputs": [],
   "source": [
    "# 用于寻峰的分支\n",
    "sav = gamspec.SavitzkySmoother(3, 3)\n",
    "convol = gamspec.SecondConvolutionPeakSearcher()\n",
    "fpeak = Flow(Pipe([sav, convol]), 0, 0, 1, 0)\n",
    "\n",
    "# 用于平滑的分支\n",
    "wavelet = gamspec.TranslationInvarianceWaveletSmoother('dmey', 'quadratic-soft', order=3)\n",
    "fsmooth = Flow(wavelet, 0, 0, 1, 1) \n",
    "\n",
    "# 两个分支合并\n",
    "def combine(spec1, spec2):\n",
    "    spec2.regions = deepcopy(spec1.regions)\n",
    "    return spec1\n",
    "comb = gamspec.Combinor(2, func=combine)\n",
    "fcomb = Flow(comb, 1, [0, 1], 2, 0)\n",
    "\n",
    "# 剥谱\n",
    "strp = gamspec.OtherOperator.AdaptiveSNIPStripper(baseline=False)\n",
    "fstrip = Flow(strp, 2, 0, 3, 0)\n",
    "\n",
    "# 拟合，计算峰面积\n",
    "fit = gamspec.RegionPeakFitter(10, equal_width=False, baseline=False)\n",
    "ffit = Flow(fit, 3, 0, 4, 0)\n",
    "\n",
    "pipenet = PipeNet([fpeak, fsmooth, fcomb, fstrip, ffit])\n",
    "pipenet.plot(verbose=True)"
   ]
  },
  {
   "cell_type": "code",
   "execution_count": 3,
   "metadata": {},
   "outputs": [
    {
     "name": "stdout",
     "output_type": "stream",
     "text": [
      "================================\n",
      "GAMUT: Start running PipeNet\n",
      "================================\n",
      "|Execute: Node 0|[0] >> Pipe >> Node 1|[0]\n",
      "|Execute: Node 0|[0] >> TIWaveletSmoother[O3MqTv] >> Node 1|[1]\n",
      "|Execute: Node 1|[0, 1] >> Combinor >> Node 2|[0]\n",
      "|Execute: Node 2|[0] >> AdaptiveSNIPStripper >> Node 3|[0]\n",
      "|Execute: Node 3|[0] >> RegionPeakFitter >> Node 4|[0]\n",
      "Fitting Region: 37~97, NPeaks=1, time=Tue Jan 16 22:28:43 2024\n",
      "Finish Fitting Region: time=Tue Jan 16 22:28:43 2024\n",
      "Fitting Region: 1802~1811, NPeaks=1, time=Tue Jan 16 22:28:43 2024\n",
      "Finish Fitting Region: time=Tue Jan 16 22:28:44 2024\n",
      "Fitting Region: 2545~2573, NPeaks=1, time=Tue Jan 16 22:28:44 2024\n",
      "Finish Fitting Region: time=Tue Jan 16 22:28:44 2024\n",
      "Fitting Region: 3058~3067, NPeaks=1, time=Tue Jan 16 22:28:44 2024\n",
      "Finish Fitting Region: time=Tue Jan 16 22:28:44 2024\n",
      "Fitting Region: 4785~4866, NPeaks=1, time=Tue Jan 16 22:28:44 2024\n",
      "Finish Fitting Region: time=Tue Jan 16 22:28:45 2024\n",
      "Fitting Region: 5854~5903, NPeaks=1, time=Tue Jan 16 22:28:45 2024\n",
      "Finish Fitting Region: time=Tue Jan 16 22:28:45 2024\n",
      "Fitting Region: 6653~6704, NPeaks=1, time=Tue Jan 16 22:28:45 2024\n",
      "Finish Fitting Region: time=Tue Jan 16 22:28:45 2024\n",
      "Fitting Region: 12537~12590, NPeaks=1, time=Tue Jan 16 22:28:45 2024\n",
      "Finish Fitting Region: time=Tue Jan 16 22:28:45 2024\n"
     ]
    }
   ],
   "source": [
    "specname = 'Co60'\n",
    "original = gamspec.Spectrum.from_GammaVision(r'E:\\Gamut_dev\\spectrum_analysis\\标准源谱分析\\Co60_Nie\\CO60 230201 2.5.Spe')\n",
    "pipenet([original])"
   ]
  }
 ],
 "metadata": {
  "kernelspec": {
   "display_name": "Python 3",
   "language": "python",
   "name": "python3"
  },
  "language_info": {
   "codemirror_mode": {
    "name": "ipython",
    "version": 3
   },
   "file_extension": ".py",
   "mimetype": "text/x-python",
   "name": "python",
   "nbconvert_exporter": "python",
   "pygments_lexer": "ipython3",
   "version": "3.11.4"
  }
 },
 "nbformat": 4,
 "nbformat_minor": 2
}
